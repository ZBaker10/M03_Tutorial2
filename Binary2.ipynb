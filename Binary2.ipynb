{
 "cells": [
  {
   "cell_type": "code",
   "execution_count": 3,
   "id": "1a5ba4e7-d93b-42f6-aadb-ab34a6f7dc4c",
   "metadata": {},
   "outputs": [
    {
     "name": "stdout",
     "output_type": "stream",
     "text": [
      "Element 4 is at index: 3\n"
     ]
    }
   ],
   "source": [
    "def solution(arr, k):\n",
    "    low, high = 0, len(arr) - 1\n",
    "    \n",
    "    while low <= high:\n",
    "        mid = (low + high) // 2\n",
    "        \n",
    "        if arr[mid] == k:\n",
    "            return mid\n",
    "        elif arr[mid] < k:\n",
    "            low = mid + 1\n",
    "        else:\n",
    "            high = mid - 1\n",
    "    \n",
    "    return -1\n",
    "\n",
    "arr = [1, 2, 3, 4, 5]\n",
    "k = 4\n",
    "position = solution(arr, k)\n",
    "print(f\"Element {k} is at index: {position}\")"
   ]
  },
  {
   "cell_type": "code",
   "execution_count": null,
   "id": "8d998eaa-09eb-4232-bace-2ac05c756af6",
   "metadata": {},
   "outputs": [],
   "source": []
  }
 ],
 "metadata": {
  "kernelspec": {
   "display_name": "Python 3 (ipykernel)",
   "language": "python",
   "name": "python3"
  },
  "language_info": {
   "codemirror_mode": {
    "name": "ipython",
    "version": 3
   },
   "file_extension": ".py",
   "mimetype": "text/x-python",
   "name": "python",
   "nbconvert_exporter": "python",
   "pygments_lexer": "ipython3",
   "version": "3.12.4"
  }
 },
 "nbformat": 4,
 "nbformat_minor": 5
}
